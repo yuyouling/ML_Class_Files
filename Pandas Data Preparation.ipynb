{
 "cells": [
  {
   "cell_type": "markdown",
   "metadata": {},
   "source": [
    "# Data Preparation"
   ]
  },
  {
   "cell_type": "markdown",
   "metadata": {},
   "source": [
    "### Descriptive and summary statistics"
   ]
  },
  {
   "cell_type": "code",
   "execution_count": null,
   "metadata": {},
   "outputs": [],
   "source": [
    "import pandas as pd"
   ]
  },
  {
   "cell_type": "code",
   "execution_count": null,
   "metadata": {},
   "outputs": [],
   "source": [
    "olympics_df = pd.read_csv(\"2016_Olympics.csv\")"
   ]
  },
  {
   "cell_type": "code",
   "execution_count": null,
   "metadata": {
    "scrolled": true
   },
   "outputs": [],
   "source": [
    "olympics_df.head()"
   ]
  },
  {
   "cell_type": "code",
   "execution_count": null,
   "metadata": {},
   "outputs": [],
   "source": [
    "# drop features\n",
    "\n",
    "# drop returns a copy\n",
    "olympics_df = olympics_df.drop(['id', 'name'], axis=1)\n",
    "\n",
    "olympics_df.head()"
   ]
  },
  {
   "cell_type": "code",
   "execution_count": null,
   "metadata": {},
   "outputs": [],
   "source": [
    "olympics_df.info()"
   ]
  },
  {
   "cell_type": "code",
   "execution_count": null,
   "metadata": {},
   "outputs": [],
   "source": [
    "olympics_df.describe()"
   ]
  },
  {
   "cell_type": "code",
   "execution_count": null,
   "metadata": {},
   "outputs": [],
   "source": [
    "# useful methods for describing the data\n",
    "\n",
    "olympics_df[\"height\"].min()\n",
    "# olympics_df[\"height\"].max()\n",
    "# olympics_df[\"height\"].mean()\n",
    "# olympics_df[\"gold\"].sum()"
   ]
  },
  {
   "cell_type": "code",
   "execution_count": null,
   "metadata": {},
   "outputs": [],
   "source": [
    "olympics_df[\"sport\"].unique()"
   ]
  },
  {
   "cell_type": "code",
   "execution_count": null,
   "metadata": {},
   "outputs": [],
   "source": [
    "set(olympics_df[\"sport\"])"
   ]
  },
  {
   "cell_type": "code",
   "execution_count": null,
   "metadata": {},
   "outputs": [],
   "source": [
    "olympics_df.describe(include=\"object\")"
   ]
  },
  {
   "cell_type": "markdown",
   "metadata": {},
   "source": [
    "### Correlated features"
   ]
  },
  {
   "cell_type": "code",
   "execution_count": null,
   "metadata": {},
   "outputs": [],
   "source": [
    "olympics_df.corr()"
   ]
  },
  {
   "cell_type": "code",
   "execution_count": null,
   "metadata": {},
   "outputs": [],
   "source": [
    "import seaborn as sns\n",
    "# hides Jupyter warnings\n",
    "import warnings\n",
    "warnings.filterwarnings('ignore')\n",
    "\n",
    "pair_plot = sns.pairplot(olympics_df[[\"sex\", \"height\", \"weight\"]], hue='sex')"
   ]
  },
  {
   "cell_type": "markdown",
   "metadata": {},
   "source": [
    "### Feature Engineering and Transformation"
   ]
  },
  {
   "cell_type": "code",
   "execution_count": null,
   "metadata": {},
   "outputs": [],
   "source": [
    "# transform height and weight to inches and pounds\n",
    "# 1 meter = 39.3700787 inches\n",
    "# 1 kg = 2.20462262 pounds\n",
    "\n",
    "inches = 39.3700787\n",
    "pounds = 2.20462262\n",
    "\n",
    "# element-wise operations\n",
    "olympics_df[\"height(in)\"] = olympics_df[\"height\"]*inches \n",
    "olympics_df[\"weight(lbs)\"] = olympics_df[\"weight\"]*pounds \n",
    "\n",
    "olympics_df.head()"
   ]
  },
  {
   "cell_type": "code",
   "execution_count": null,
   "metadata": {},
   "outputs": [],
   "source": [
    "# combine height and weight into BMI feature\n",
    "# bmi = weight(kg)/height(m)**2\n",
    "\n",
    "olympics_df[\"bmi\"] = olympics_df[\"weight\"]/(olympics_df[\"height\"]**2)\n",
    "\n",
    "olympics_df.head()"
   ]
  },
  {
   "cell_type": "code",
   "execution_count": null,
   "metadata": {},
   "outputs": [],
   "source": [
    "# drop height and weight\n",
    "olympics_df = olympics_df.drop([\"height\", \"weight\", \"height(in)\", \"weight(lbs)\"], axis=1)\n",
    "\n",
    "olympics_df.head()"
   ]
  },
  {
   "cell_type": "code",
   "execution_count": null,
   "metadata": {},
   "outputs": [],
   "source": [
    "# create a feature representing total medals won\n",
    "olympics_df[\"medal_ct\"] = olympics_df[[\"gold\", \"silver\", \"bronze\"]].sum(axis = 1)\n",
    "olympics_df.head()"
   ]
  },
  {
   "cell_type": "code",
   "execution_count": null,
   "metadata": {},
   "outputs": [],
   "source": [
    "#transform strings to integers\n",
    "olympics_df[\"sex\"] = olympics_df[\"sex\"].map({\"female\":0, \"male\":1})\n",
    "olympics_df.head()"
   ]
  },
  {
   "cell_type": "markdown",
   "metadata": {},
   "source": [
    "### Boolean Selection "
   ]
  },
  {
   "cell_type": "code",
   "execution_count": null,
   "metadata": {},
   "outputs": [],
   "source": [
    "olympics_df[\"sport\"]==\"athletics\""
   ]
  },
  {
   "cell_type": "code",
   "execution_count": null,
   "metadata": {},
   "outputs": [],
   "source": [
    "olympics_df[\"sport\"].isin([\"athletics\",\"volleyball\"])"
   ]
  },
  {
   "cell_type": "code",
   "execution_count": null,
   "metadata": {},
   "outputs": [],
   "source": [
    "# use count() to get the quantity of items in a Series/column\n",
    "olympics_df.loc[olympics_df[\"sport\"]==\"athletics\", \"sport\"].count()"
   ]
  },
  {
   "cell_type": "code",
   "execution_count": null,
   "metadata": {},
   "outputs": [],
   "source": [
    "# use value_counts() to get the quantity of each unique item within a Series/column\n",
    "olympics_df[\"sport\"].value_counts()"
   ]
  },
  {
   "cell_type": "code",
   "execution_count": null,
   "metadata": {},
   "outputs": [],
   "source": [
    "# And\n",
    "olympics_df.loc[(olympics_df[\"bmi\"] > 29) & (olympics_df[\"gold\"] > 0)].count()"
   ]
  },
  {
   "cell_type": "code",
   "execution_count": null,
   "metadata": {},
   "outputs": [],
   "source": [
    "# And\n",
    "olympics_df.loc[(olympics_df[\"bmi\"] < 19) & (olympics_df[\"nationality\"] == \"USA\")].count()"
   ]
  },
  {
   "cell_type": "code",
   "execution_count": null,
   "metadata": {},
   "outputs": [],
   "source": [
    "# Or\n",
    "olympics_df.loc[((olympics_df[\"bmi\"] < 19) | (olympics_df[\"bmi\"] > 29)) & (olympics_df[\"medal_ct\"] >0), \"sport\"].value_counts()"
   ]
  },
  {
   "cell_type": "markdown",
   "metadata": {},
   "source": [
    "## Archive cleaned and transformed DataFrame"
   ]
  },
  {
   "cell_type": "code",
   "execution_count": null,
   "metadata": {},
   "outputs": [],
   "source": [
    "# to save your cleaned data to file\n",
    "df.to_csv(\"new_filename.csv\")"
   ]
  }
 ],
 "metadata": {
  "kernelspec": {
   "display_name": "Python 3",
   "language": "python",
   "name": "python3"
  },
  "language_info": {
   "codemirror_mode": {
    "name": "ipython",
    "version": 3
   },
   "file_extension": ".py",
   "mimetype": "text/x-python",
   "name": "python",
   "nbconvert_exporter": "python",
   "pygments_lexer": "ipython3",
   "version": "3.7.1"
  }
 },
 "nbformat": 4,
 "nbformat_minor": 2
}
