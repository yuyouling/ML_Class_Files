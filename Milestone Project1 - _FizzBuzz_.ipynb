{
 "cells": [
  {
   "cell_type": "markdown",
   "metadata": {},
   "source": [
    "# Milestone Project 1 - \"FizzBuzz\""
   ]
  },
  {
   "cell_type": "markdown",
   "metadata": {},
   "source": [
    "### Based upon what we learned about if statements, for loops and while loops, write a short program that prints each number from 1 to 100 on a new line. \n",
    "\n",
    "### For each multiple of 3, print \"Fizz\" instead of the number. \n",
    "### For each multiple of 5, print “Buzz” instead of the number. \n",
    "### For numbers which are multiples of both three and five, print “FizzBuzz.\""
   ]
  },
  {
   "cell_type": "code",
   "execution_count": null,
   "metadata": {},
   "outputs": [],
   "source": []
  }
 ],
 "metadata": {
  "kernelspec": {
   "display_name": "Python 3",
   "language": "python",
   "name": "python3"
  },
  "language_info": {
   "codemirror_mode": {
    "name": "ipython",
    "version": 3
   },
   "file_extension": ".py",
   "mimetype": "text/x-python",
   "name": "python",
   "nbconvert_exporter": "python",
   "pygments_lexer": "ipython3",
   "version": "3.6.7"
  }
 },
 "nbformat": 4,
 "nbformat_minor": 2
}
