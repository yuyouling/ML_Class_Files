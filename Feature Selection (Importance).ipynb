{
 "cells": [
  {
   "cell_type": "code",
   "execution_count": null,
   "metadata": {},
   "outputs": [],
   "source": [
    "import numpy as np\n",
    "import pandas as pd\n",
    "\n",
    "\n",
    "master_dataframe = pd.read_csv(\"pima_diabetes.csv\")\n",
    "df = master_dataframe.drop(['skin'], axis=1) \n",
    "df.head()"
   ]
  },
  {
   "cell_type": "code",
   "execution_count": null,
   "metadata": {},
   "outputs": [],
   "source": [
    "X = df.iloc[:, :-1].values\n",
    "y = df.iloc[:, -1].values"
   ]
  },
  {
   "cell_type": "code",
   "execution_count": null,
   "metadata": {},
   "outputs": [],
   "source": [
    "from sklearn.model_selection import train_test_split\n",
    "from sklearn.preprocessing import StandardScaler\n",
    "\n",
    "\n",
    "# split dataset into test/train sets\n",
    "X_train, X_test, y_train, y_test = train_test_split(X, y, random_state=1, test_size=0.3)\n",
    "\n",
    "# standardize features\n",
    "stdsc = StandardScaler()\n",
    "X_train_std = stdsc.fit_transform(X_train)\n",
    "X_test_std = stdsc.transform(X_test)  "
   ]
  },
  {
   "cell_type": "markdown",
   "metadata": {},
   "source": [
    "### A Random Forest will identify feature importances\n",
    "Feature importance rates how important each feature is for the Random Forest. \n",
    "\n",
    "Feature imporatnces will always sum to 1."
   ]
  },
  {
   "cell_type": "code",
   "execution_count": null,
   "metadata": {},
   "outputs": [],
   "source": [
    "from sklearn.ensemble import RandomForestClassifier\n",
    "\n",
    "\n",
    "\n",
    "rf = RandomForestClassifier(n_estimators=10000, random_state=0)\n",
    "rf.fit(X_train_std, y_train)\n",
    "\n",
    "\n",
    "feature_importances = rf.feature_importances_\n",
    "\n",
    "# feature importances will always sum to 1\n",
    "print(\"Feature importances:\\n{}\".format(feature_importances))"
   ]
  },
  {
   "cell_type": "code",
   "execution_count": null,
   "metadata": {},
   "outputs": [],
   "source": [
    "# feature_importance array needs to be reshaped; it is a vector of shape (8,), it needs to be shaped (1,8)\n",
    "most_important_features = pd.DataFrame(feature_importances.reshape(1,-1), columns=df.columns[:-1], index = [\"importance\"])\n",
    "most_important_features"
   ]
  },
  {
   "cell_type": "markdown",
   "metadata": {},
   "source": [
    "### Get the indices of the most important features sorted by importance"
   ]
  },
  {
   "cell_type": "code",
   "execution_count": null,
   "metadata": {},
   "outputs": [],
   "source": [
    "# sort the feature importances but show their original index position\n",
    "\n",
    "feature_importance_inorder_mask = np.argsort(feature_importances)[::-1]\n",
    "feature_importance_inorder_mask"
   ]
  },
  {
   "cell_type": "code",
   "execution_count": null,
   "metadata": {},
   "outputs": [],
   "source": [
    "# convert columns from an Index object to a numpy array so that we can pass a list/mask to it\n",
    "features = np.array(df.columns)\n",
    "\n",
    "best_features = list(features[feature_importance_inorder_mask])\n",
    "\n",
    "# display the best features in order\n",
    "print(\"The best features in order: \\n{}\".format(best_features))"
   ]
  },
  {
   "cell_type": "markdown",
   "metadata": {},
   "source": [
    "### Get the indices of the 'n' most important features (unsorted) based upon a given threshold"
   ]
  },
  {
   "cell_type": "code",
   "execution_count": null,
   "metadata": {},
   "outputs": [],
   "source": [
    "from sklearn.feature_selection import SelectFromModel\n",
    "\n",
    "# threshold: may be set to None (which defaults to mean),'median', number between 0 and 1\n",
    "# prefit=True tells it to use the model that we've already fit above\n",
    "\n",
    "#sfm = SelectFromModel(rf, threshold=.08, prefit=True)\n",
    "sfm = SelectFromModel(rf, threshold='median', prefit=True)\n",
    "\n",
    "# Get the indices of the most important features\n",
    "most_important_features = sfm.get_support(indices=True)\n",
    "print(\"Indices of the most important features:\", most_important_features)"
   ]
  },
  {
   "cell_type": "markdown",
   "metadata": {},
   "source": [
    "### Display a list of the 'n' most important features (unsorted) based upon a given threhold"
   ]
  },
  {
   "cell_type": "code",
   "execution_count": null,
   "metadata": {},
   "outputs": [],
   "source": [
    "# convert columns from an Index object to a numpy array so that we can pass a list/mask to it\n",
    "features = np.array(df.columns)\n",
    "\n",
    "best_features = list(features[most_important_features])\n",
    "num = len(best_features)\n",
    "\n",
    "# display the best features, given a threshold, not necessarily in order\n",
    "print(\"The {} best features (not necessarily in order): \\n{}\".format(num, best_features))"
   ]
  },
  {
   "cell_type": "code",
   "execution_count": null,
   "metadata": {},
   "outputs": [],
   "source": [
    "# shape of data before transformation\n",
    "X_train.shape"
   ]
  },
  {
   "cell_type": "markdown",
   "metadata": {},
   "source": [
    "### Transform the data to include just the 'n' most important features"
   ]
  },
  {
   "cell_type": "code",
   "execution_count": null,
   "metadata": {},
   "outputs": [],
   "source": [
    "# transform the data to just the most important features\n",
    "\n",
    "X_train_most_important_features = sfm.transform(X_train_std)\n"
   ]
  },
  {
   "cell_type": "code",
   "execution_count": null,
   "metadata": {},
   "outputs": [],
   "source": [
    "# shape of data after transformation\n",
    "\n",
    "print(\"Shape of X_train dataset with only the most important features: \", X_train_most_important_features.shape)\n",
    "\n",
    "\n",
    "# You could now try the \"most important feature\" dataset to observe any change in the model's performance\n",
    "\n",
    "# For example:\n",
    "# print(\"CV scores: {}\".format(cross_val_score(svm, X_train_best_features, y_train, scoring='accuracy', cv=10).mean())"
   ]
  }
 ],
 "metadata": {
  "kernelspec": {
   "display_name": "Python 3",
   "language": "python",
   "name": "python3"
  },
  "language_info": {
   "codemirror_mode": {
    "name": "ipython",
    "version": 3
   },
   "file_extension": ".py",
   "mimetype": "text/x-python",
   "name": "python",
   "nbconvert_exporter": "python",
   "pygments_lexer": "ipython3",
   "version": "3.6.5"
  }
 },
 "nbformat": 4,
 "nbformat_minor": 2
}
